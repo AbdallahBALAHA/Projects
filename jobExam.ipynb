{
 "cells": [
  {
   "cell_type": "code",
   "execution_count": 14,
   "id": "529c66f6",
   "metadata": {},
   "outputs": [
    {
     "name": "stdout",
     "output_type": "stream",
     "text": [
      "     country        date  daily_vaccinations   vaccines\n",
      "0  Argentina  12/29/2020                 NaN  Sputnik V\n",
      "1  Argentina  12/30/2020             15656.0  Sputnik V\n",
      "2  Argentina  12/31/2020             15656.0  Sputnik V\n",
      "3  Argentina    1/1/2021             11070.0  Sputnik V\n",
      "4  Argentina    1/2/2021              8776.0  Sputnik V\n"
     ]
    }
   ],
   "source": [
    "import pandas as pd\n",
    "df = pd.read_csv('country_vaccination_stats.csv')\n",
    "print(df.head())\n"
   ]
  },
  {
   "cell_type": "code",
   "execution_count": 15,
   "id": "73e9393c",
   "metadata": {
    "scrolled": true
   },
   "outputs": [
    {
     "data": {
      "text/html": [
       "<div>\n",
       "<style scoped>\n",
       "    .dataframe tbody tr th:only-of-type {\n",
       "        vertical-align: middle;\n",
       "    }\n",
       "\n",
       "    .dataframe tbody tr th {\n",
       "        vertical-align: top;\n",
       "    }\n",
       "\n",
       "    .dataframe thead th {\n",
       "        text-align: right;\n",
       "    }\n",
       "</style>\n",
       "<table border=\"1\" class=\"dataframe\">\n",
       "  <thead>\n",
       "    <tr style=\"text-align: right;\">\n",
       "      <th></th>\n",
       "      <th>country</th>\n",
       "      <th>date</th>\n",
       "      <th>daily_vaccinations</th>\n",
       "      <th>vaccines</th>\n",
       "    </tr>\n",
       "  </thead>\n",
       "  <tbody>\n",
       "    <tr>\n",
       "      <th>3</th>\n",
       "      <td>Argentina</td>\n",
       "      <td>1/1/2021</td>\n",
       "      <td>11070.0</td>\n",
       "      <td>Sputnik V</td>\n",
       "    </tr>\n",
       "    <tr>\n",
       "      <th>12</th>\n",
       "      <td>Argentina</td>\n",
       "      <td>1/10/2021</td>\n",
       "      <td>13365.0</td>\n",
       "      <td>Sputnik V</td>\n",
       "    </tr>\n",
       "    <tr>\n",
       "      <th>13</th>\n",
       "      <td>Argentina</td>\n",
       "      <td>1/11/2021</td>\n",
       "      <td>14788.0</td>\n",
       "      <td>Sputnik V</td>\n",
       "    </tr>\n",
       "    <tr>\n",
       "      <th>14</th>\n",
       "      <td>Argentina</td>\n",
       "      <td>1/12/2021</td>\n",
       "      <td>14056.0</td>\n",
       "      <td>Sputnik V</td>\n",
       "    </tr>\n",
       "    <tr>\n",
       "      <th>15</th>\n",
       "      <td>Argentina</td>\n",
       "      <td>1/13/2021</td>\n",
       "      <td>13323.0</td>\n",
       "      <td>Sputnik V</td>\n",
       "    </tr>\n",
       "  </tbody>\n",
       "</table>\n",
       "</div>"
      ],
      "text/plain": [
       "      country       date  daily_vaccinations   vaccines\n",
       "3   Argentina   1/1/2021             11070.0  Sputnik V\n",
       "12  Argentina  1/10/2021             13365.0  Sputnik V\n",
       "13  Argentina  1/11/2021             14788.0  Sputnik V\n",
       "14  Argentina  1/12/2021             14056.0  Sputnik V\n",
       "15  Argentina  1/13/2021             13323.0  Sputnik V"
      ]
     },
     "execution_count": 15,
     "metadata": {},
     "output_type": "execute_result"
    }
   ],
   "source": [
    "df = df.sort_values([\"country\", \"date\"])\n",
    "# Group the dataframe by country and fill missing values with the minimum daily vaccinations of relevant countries\n",
    "df[\"daily_vaccinations\"] = df.groupby(\"country\", group_keys=False)[\"daily_vaccinations\"].apply(lambda x: x.fillna(x.min()))\n",
    "# Fill missing values with 0 (zero) for countries that do not have any valid vaccination number yet\n",
    "df[\"daily_vaccinations\"] = df.groupby(\"country\", group_keys=False)[\"daily_vaccinations\"].apply(lambda x: x.fillna(0))\n",
    "df.head()\n"
   ]
  },
  {
   "cell_type": "code",
   "execution_count": 16,
   "id": "7fb01aaf",
   "metadata": {},
   "outputs": [
    {
     "name": "stdout",
     "output_type": "stream",
     "text": [
      "country\n",
      "United States    378253.0\n",
      "China            276786.0\n",
      "India            173922.0\n",
      "Name: daily_vaccinations, dtype: float64\n"
     ]
    }
   ],
   "source": [
    "# Group the dataframe by country and calculate the median daily vaccinations for each country\n",
    "median_daily_vaccinations = df.groupby(\"country\")[\"daily_vaccinations\"].median()\n",
    "top_3_countries = median_daily_vaccinations.sort_values(ascending=False).head(3)\n",
    "print(top_3_countries)"
   ]
  },
  {
   "cell_type": "code",
   "execution_count": 17,
   "id": "cd5bd6a2",
   "metadata": {},
   "outputs": [
    {
     "name": "stdout",
     "output_type": "stream",
     "text": [
      "1485255.0\n"
     ]
    }
   ],
   "source": [
    "# Filter the dataframe by date 1/6/2021\n",
    "df_in_01062021 = df[df[\"date\"] == \"1/6/2021\"]\n",
    "total_vaccinations = df_01062021[\"daily_vaccinations\"].sum()\n",
    "print(total_vaccinations)"
   ]
  },
  {
   "cell_type": "code",
   "execution_count": 21,
   "id": "9a465485",
   "metadata": {
    "scrolled": true
   },
   "outputs": [],
   "source": [
    "import sqlite3\n",
    "df = pd.read_csv(\"country_vaccination_stats.csv\")\n",
    "conn = sqlite3.connect(\"country_vaccination_stats.csv.db\")\n",
    "df.to_sql(\"country_vaccination_stats\", conn, if_exists=\"replace\", index=False)\n",
    "query = '''\n",
    "UPDATE country_vaccination_stats\n",
    "SET daily_vaccinations = (\n",
    "SELECT COALESCE(median_daily_vaccinations, 0)\n",
    "FROM (\n",
    "SELECT country, AVG(daily_vaccinations) OVER (PARTITION BY country) AS median_daily_vaccinations\n",
    "FROM country_vaccination_stats\n",
    "WHERE daily_vaccinations IS NOT NULL\n",
    ") AS subquery\n",
    "WHERE subquery.country = country_vaccination_stats.country\n",
    ")\n",
    "WHERE daily_vaccinations IS NULL;\n",
    "'''\n",
    "conn.execute(query)\n",
    "conn.commit()\n",
    "conn.close()\n"
   ]
  },
  {
   "cell_type": "code",
   "execution_count": null,
   "id": "b7712456",
   "metadata": {},
   "outputs": [],
   "source": []
  }
 ],
 "metadata": {
  "kernelspec": {
   "display_name": "Python 3 (ipykernel)",
   "language": "python",
   "name": "python3"
  },
  "language_info": {
   "codemirror_mode": {
    "name": "ipython",
    "version": 3
   },
   "file_extension": ".py",
   "mimetype": "text/x-python",
   "name": "python",
   "nbconvert_exporter": "python",
   "pygments_lexer": "ipython3",
   "version": "3.11.2"
  }
 },
 "nbformat": 4,
 "nbformat_minor": 5
}
